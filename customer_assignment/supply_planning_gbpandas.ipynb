{
 "cells": [
  {
   "cell_type": "markdown",
   "metadata": {},
   "source": [
    "## Supply Planning using Gurobi\n",
    "This notebook demostrates how supply planning optmization can be done using Gurobi using a simplied Supply Planning Problem usecase.\n",
    "\n",
    "Supply planning is managing the inventory produced by manufacturing to fulfil the requirements created from the demand plan.\n",
    "\n",
    "### How many pallets do we need to ship to DC1 in the near future?\n",
    "\n",
    "![suppy_planning_problem.png](img/suppy_planning_problem.png)\n",
    "\n",
    "_source_: [Samir Saci](https://towardsdatascience.com/supply-planning-using-linear-programming-with-python-bff2401bf270)\n",
    "\n",
    "\n",
    "### Problem Statement\n",
    "\n",
    "As a Supply Planning manager of a mid-size manufacturing company, you received the feedback that the distribution costs are too high. Based on the analysis of the Transportation Manager this is mainly due to the stock allocation rules.\n",
    "\n",
    "In some cases, your customers are not shipped by the closest distribution centre, which impacts your freight costs.\n",
    "\n",
    "For simplicity, let's say we have the following points to take into consideration:\n",
    "\n",
    "- Inbound Transportation Costs from the Plants to the Distribution Centers (DC) ($/Carton).\n",
    "\n",
    "- Outbound Transportation Costs from the DCs to the final customer ($/Carton).\n",
    "\n",
    "- Customer Demand (Carton).\n",
    "\n",
    "This problem statement is based on [this](https://towardsdatascience.com/supply-planning-using-linear-programming-with-python-bff2401bf270) article. There the problem was solved using PuLP framework. "
   ]
  },
  {
   "cell_type": "markdown",
   "metadata": {},
   "source": [
    "### Loading data\n",
    "\n",
    "- Loading the near future demand of stores (or customers) in terms of number of pallets required into a dataframe."
   ]
  },
  {
   "cell_type": "code",
   "execution_count": 93,
   "metadata": {},
   "outputs": [
    {
     "data": {
      "text/html": [
       "<div>\n",
       "<style scoped>\n",
       "    .dataframe tbody tr th:only-of-type {\n",
       "        vertical-align: middle;\n",
       "    }\n",
       "\n",
       "    .dataframe tbody tr th {\n",
       "        vertical-align: top;\n",
       "    }\n",
       "\n",
       "    .dataframe thead th {\n",
       "        text-align: right;\n",
       "    }\n",
       "</style>\n",
       "<table border=\"1\" class=\"dataframe\">\n",
       "  <thead>\n",
       "    <tr style=\"text-align: right;\">\n",
       "      <th></th>\n",
       "      <th>DEMAND</th>\n",
       "    </tr>\n",
       "    <tr>\n",
       "      <th>STORE</th>\n",
       "      <th></th>\n",
       "    </tr>\n",
       "  </thead>\n",
       "  <tbody>\n",
       "    <tr>\n",
       "      <th>S1</th>\n",
       "      <td>244</td>\n",
       "    </tr>\n",
       "    <tr>\n",
       "      <th>S2</th>\n",
       "      <td>172</td>\n",
       "    </tr>\n",
       "    <tr>\n",
       "      <th>S3</th>\n",
       "      <td>124</td>\n",
       "    </tr>\n",
       "    <tr>\n",
       "      <th>S4</th>\n",
       "      <td>90</td>\n",
       "    </tr>\n",
       "    <tr>\n",
       "      <th>S5</th>\n",
       "      <td>158</td>\n",
       "    </tr>\n",
       "  </tbody>\n",
       "</table>\n",
       "</div>"
      ],
      "text/plain": [
       "       DEMAND\n",
       "STORE        \n",
       "S1        244\n",
       "S2        172\n",
       "S3        124\n",
       "S4         90\n",
       "S5        158"
      ]
     },
     "execution_count": 93,
     "metadata": {},
     "output_type": "execute_result"
    }
   ],
   "source": [
    "'''\n",
    "Author: Dhruva Ahuja\n",
    "'''\n",
    "import pandas as pd\n",
    "\n",
    "df_demand = pd.read_csv('data/df_demand.csv', index_col=0)\n",
    "df_demand.set_index('STORE', inplace=True)\n",
    "df_demand.head()"
   ]
  },
  {
   "cell_type": "markdown",
   "metadata": {},
   "source": [
    "### Loading data\n",
    "- Inbound transportation cost from plant $P_i$ to distribution center $DC_j$ loaded into `df_inbound`.\n",
    "- Outbound transportation cost from distribution center $DC_j$ to supplier $S_k$ loaded into `df_outbound`."
   ]
  },
  {
   "cell_type": "code",
   "execution_count": 94,
   "metadata": {},
   "outputs": [
    {
     "data": {
      "text/html": [
       "<div>\n",
       "<style scoped>\n",
       "    .dataframe tbody tr th:only-of-type {\n",
       "        vertical-align: middle;\n",
       "    }\n",
       "\n",
       "    .dataframe tbody tr th {\n",
       "        vertical-align: top;\n",
       "    }\n",
       "\n",
       "    .dataframe thead th {\n",
       "        text-align: right;\n",
       "    }\n",
       "</style>\n",
       "<table border=\"1\" class=\"dataframe\">\n",
       "  <thead>\n",
       "    <tr style=\"text-align: right;\">\n",
       "      <th></th>\n",
       "      <th>S1</th>\n",
       "      <th>S2</th>\n",
       "      <th>S3</th>\n",
       "      <th>S4</th>\n",
       "      <th>S5</th>\n",
       "      <th>S6</th>\n",
       "      <th>S7</th>\n",
       "      <th>S8</th>\n",
       "      <th>S9</th>\n",
       "      <th>S10</th>\n",
       "      <th>...</th>\n",
       "      <th>S191</th>\n",
       "      <th>S192</th>\n",
       "      <th>S193</th>\n",
       "      <th>S194</th>\n",
       "      <th>S195</th>\n",
       "      <th>S196</th>\n",
       "      <th>S197</th>\n",
       "      <th>S198</th>\n",
       "      <th>S199</th>\n",
       "      <th>S200</th>\n",
       "    </tr>\n",
       "    <tr>\n",
       "      <th>from</th>\n",
       "      <th></th>\n",
       "      <th></th>\n",
       "      <th></th>\n",
       "      <th></th>\n",
       "      <th></th>\n",
       "      <th></th>\n",
       "      <th></th>\n",
       "      <th></th>\n",
       "      <th></th>\n",
       "      <th></th>\n",
       "      <th></th>\n",
       "      <th></th>\n",
       "      <th></th>\n",
       "      <th></th>\n",
       "      <th></th>\n",
       "      <th></th>\n",
       "      <th></th>\n",
       "      <th></th>\n",
       "      <th></th>\n",
       "      <th></th>\n",
       "      <th></th>\n",
       "    </tr>\n",
       "  </thead>\n",
       "  <tbody>\n",
       "    <tr>\n",
       "      <th>D1</th>\n",
       "      <td>2.30</td>\n",
       "      <td>4.23</td>\n",
       "      <td>2.26</td>\n",
       "      <td>3.38</td>\n",
       "      <td>1.59</td>\n",
       "      <td>2.01</td>\n",
       "      <td>5.32</td>\n",
       "      <td>6.63</td>\n",
       "      <td>2.38</td>\n",
       "      <td>6.62</td>\n",
       "      <td>...</td>\n",
       "      <td>5.86</td>\n",
       "      <td>8.30</td>\n",
       "      <td>3.02</td>\n",
       "      <td>1.01</td>\n",
       "      <td>2.77</td>\n",
       "      <td>2.96</td>\n",
       "      <td>3.53</td>\n",
       "      <td>8.60</td>\n",
       "      <td>2.77</td>\n",
       "      <td>7.06</td>\n",
       "    </tr>\n",
       "    <tr>\n",
       "      <th>D2</th>\n",
       "      <td>5.31</td>\n",
       "      <td>2.18</td>\n",
       "      <td>8.52</td>\n",
       "      <td>8.34</td>\n",
       "      <td>4.59</td>\n",
       "      <td>1.04</td>\n",
       "      <td>1.89</td>\n",
       "      <td>6.45</td>\n",
       "      <td>8.35</td>\n",
       "      <td>3.32</td>\n",
       "      <td>...</td>\n",
       "      <td>7.54</td>\n",
       "      <td>2.11</td>\n",
       "      <td>4.33</td>\n",
       "      <td>1.54</td>\n",
       "      <td>4.75</td>\n",
       "      <td>7.84</td>\n",
       "      <td>8.21</td>\n",
       "      <td>4.51</td>\n",
       "      <td>3.27</td>\n",
       "      <td>3.13</td>\n",
       "    </tr>\n",
       "  </tbody>\n",
       "</table>\n",
       "<p>2 rows × 200 columns</p>\n",
       "</div>"
      ],
      "text/plain": [
       "        S1    S2    S3    S4    S5    S6    S7    S8    S9   S10  ...  S191  \\\n",
       "from                                                              ...         \n",
       "D1    2.30  4.23  2.26  3.38  1.59  2.01  5.32  6.63  2.38  6.62  ...  5.86   \n",
       "D2    5.31  2.18  8.52  8.34  4.59  1.04  1.89  6.45  8.35  3.32  ...  7.54   \n",
       "\n",
       "      S192  S193  S194  S195  S196  S197  S198  S199  S200  \n",
       "from                                                        \n",
       "D1    8.30  3.02  1.01  2.77  2.96  3.53  8.60  2.77  7.06  \n",
       "D2    2.11  4.33  1.54  4.75  7.84  8.21  4.51  3.27  3.13  \n",
       "\n",
       "[2 rows x 200 columns]"
      ]
     },
     "execution_count": 94,
     "metadata": {},
     "output_type": "execute_result"
    }
   ],
   "source": [
    "df_inbound = pd.read_csv('data/df_inbound_price.csv', index_col=0)\n",
    "df_outbound = pd.read_csv('data/df_outbound_price.csv', index_col=0)\n",
    "df_outbound = df_outbound.set_index('from')\n",
    "df_outbound.head()"
   ]
  },
  {
   "cell_type": "code",
   "execution_count": 95,
   "metadata": {},
   "outputs": [
    {
     "data": {
      "text/html": [
       "<div>\n",
       "<style scoped>\n",
       "    .dataframe tbody tr th:only-of-type {\n",
       "        vertical-align: middle;\n",
       "    }\n",
       "\n",
       "    .dataframe tbody tr th {\n",
       "        vertical-align: top;\n",
       "    }\n",
       "\n",
       "    .dataframe thead th {\n",
       "        text-align: right;\n",
       "    }\n",
       "</style>\n",
       "<table border=\"1\" class=\"dataframe\">\n",
       "  <thead>\n",
       "    <tr style=\"text-align: right;\">\n",
       "      <th></th>\n",
       "      <th>D1</th>\n",
       "      <th>D2</th>\n",
       "    </tr>\n",
       "  </thead>\n",
       "  <tbody>\n",
       "    <tr>\n",
       "      <th>P1</th>\n",
       "      <td>3.0</td>\n",
       "      <td>5.0</td>\n",
       "    </tr>\n",
       "    <tr>\n",
       "      <th>P2</th>\n",
       "      <td>2.3</td>\n",
       "      <td>6.6</td>\n",
       "    </tr>\n",
       "  </tbody>\n",
       "</table>\n",
       "</div>"
      ],
      "text/plain": [
       "     D1   D2\n",
       "P1  3.0  5.0\n",
       "P2  2.3  6.6"
      ]
     },
     "execution_count": 95,
     "metadata": {},
     "output_type": "execute_result"
    }
   ],
   "source": [
    "df_inbound"
   ]
  },
  {
   "cell_type": "code",
   "execution_count": 96,
   "metadata": {},
   "outputs": [
    {
     "data": {
      "text/plain": [
       "D1  P1    3.0\n",
       "    P2    2.3\n",
       "D2  P1    5.0\n",
       "    P2    6.6\n",
       "dtype: float64"
      ]
     },
     "execution_count": 96,
     "metadata": {},
     "output_type": "execute_result"
    }
   ],
   "source": [
    "pq = df_inbound.unstack()\n",
    "pq"
   ]
  },
  {
   "cell_type": "code",
   "execution_count": 97,
   "metadata": {},
   "outputs": [
    {
     "data": {
      "text/plain": [
       "D1     5.3\n",
       "D2    11.6\n",
       "dtype: float64"
      ]
     },
     "execution_count": 97,
     "metadata": {},
     "output_type": "execute_result"
    }
   ],
   "source": [
    "pq.groupby(level=0).sum()"
   ]
  },
  {
   "cell_type": "code",
   "execution_count": 98,
   "metadata": {},
   "outputs": [],
   "source": [
    "unstack_outbound = df_outbound.unstack()\n",
    "unstack_inbound = df_inbound.unstack()"
   ]
  },
  {
   "cell_type": "markdown",
   "metadata": {},
   "source": [
    "The optimization problem can be formulated as follows:\n",
    "\n",
    "$$ TC = \\sum_{i=1}^{2} \\sum_{j=1}^{2} IB_{i, j} \\times I_{i, j} + \\sum_{j=1}^{2} \\sum_{k=1}^{200} OB_{j, k} \\times O_{j, k} $$\n",
    "\n",
    "Where, \n",
    "- $IB_{i, j}$ is inbound cost (\\$/pallete) from plant $P_i$ to $DC_j$.\n",
    "- $OB_{j, k}$ is outbound cost (\\$/pallete) from $DC_j$ to store $S_k$.\n",
    "\n",
    "\n",
    "We have to minimize TC or Total Cost, subjected to some contraints (given later).\n",
    "\n",
    "$$ \\text{minimize} \\quad {TC}$$"
   ]
  },
  {
   "cell_type": "code",
   "execution_count": 99,
   "metadata": {},
   "outputs": [],
   "source": [
    "import gurobipy as gb\n",
    "import gurobipy_pandas as gbpd\n",
    "from gurobipy import GRB\n",
    "\n",
    "m = gb.Model('supply_planning.lp')\n",
    "\n",
    "# Define inbound and outbound variables, since the number of palletes (inbound or outbound) can only be an integer, \n",
    "# we specify the vtype to be integer. Hence making it a mixed integer linear programming problem.\n",
    "I = gbpd.add_vars(m, unstack_inbound, vtype=GRB.INTEGER, name='inbound')\n",
    "O = gbpd.add_vars(m, unstack_outbound, vtype=GRB.INTEGER, name='outbound')\n",
    "\n",
    "m.update()"
   ]
  },
  {
   "cell_type": "code",
   "execution_count": 100,
   "metadata": {},
   "outputs": [
    {
     "data": {
      "text/plain": [
       "D1  P1    3.0\n",
       "    P2    2.3\n",
       "D2  P1    5.0\n",
       "    P2    6.6\n",
       "dtype: float64"
      ]
     },
     "execution_count": 100,
     "metadata": {},
     "output_type": "execute_result"
    }
   ],
   "source": [
    "unstack_inbound"
   ]
  },
  {
   "cell_type": "code",
   "execution_count": 101,
   "metadata": {},
   "outputs": [],
   "source": [
    "objective = gb.quicksum(I * unstack_inbound)\n",
    "objective += gb.quicksum(O * unstack_outbound)\n",
    "\n",
    "m.setObjective(objective, GRB.MINIMIZE)\n",
    "m.update()"
   ]
  },
  {
   "cell_type": "markdown",
   "metadata": {},
   "source": [
    "Equality Constraint: Total inbound should be equal to total outbound for a distribution center.\n",
    "\n",
    "\n",
    "$$ \\sum_{i=0}^{2} I_{i, j} = \\sum_{k=0}^{200} O_{j, k} ~~~~~~~~ \\forall ~~ j \\in \\{1, 2\\}$$\n",
    "\n",
    "Inequality Contraint: Outbound from distribution centers should meet the customer demand.\n",
    "\n",
    "$$ \\sum_{j=0}^{2} O_{j, k} \\ge D_k ~~~~~~~~ \\forall ~~ k \\in \\{1, 2, \\dotsc, 200\\}$$\n",
    "\n",
    "Integrality contraint: \n",
    "$$I_{i, j} \\in \\mathbb{Z}^+ ~~~ \\forall (i, j), \\\\ O_{j, k} \\in \\mathbb{Z}^+ ~~~ \\forall (j, k)$$"
   ]
  },
  {
   "cell_type": "code",
   "execution_count": 102,
   "metadata": {},
   "outputs": [],
   "source": [
    "# Add the equality contraints\n",
    "gbpd.add_constrs(m, I.groupby(level=0).agg(gb.quicksum), GRB.EQUAL, O.groupby(level=1).agg(gb.quicksum))\n",
    "\n",
    "# Add the inquality contraints\n",
    "gbpd.add_constrs(m, O.groupby(level=0).agg(gb.quicksum), GRB.GREATER_EQUAL, df_demand['DEMAND'])\n",
    "\n",
    "m.update()"
   ]
  },
  {
   "cell_type": "code",
   "execution_count": 103,
   "metadata": {},
   "outputs": [
    {
     "name": "stdout",
     "output_type": "stream",
     "text": [
      "Gurobi Optimizer version 11.0.3 build v11.0.3rc0 (win64 - Windows 11.0 (22631.2))\n",
      "\n",
      "CPU model: 11th Gen Intel(R) Core(TM) i5-1135G7 @ 2.40GHz, instruction set [SSE2|AVX|AVX2|AVX512]\n",
      "Thread count: 4 physical cores, 8 logical processors, using up to 8 threads\n",
      "\n",
      "Optimize a model with 202 rows, 404 columns and 804 nonzeros\n",
      "Model fingerprint: 0xb607bbb8\n",
      "Variable types: 0 continuous, 404 integer (0 binary)\n",
      "Coefficient statistics:\n",
      "  Matrix range     [1e+00, 1e+00]\n",
      "  Objective range  [1e+00, 9e+00]\n",
      "  Bounds range     [0e+00, 0e+00]\n",
      "  RHS range        [2e+01, 3e+02]\n",
      "Found heuristic solution: objective 285354.69000\n",
      "Presolve removed 202 rows and 404 columns\n",
      "Presolve time: 0.00s\n",
      "Presolve: All rows and columns removed\n",
      "\n",
      "Explored 0 nodes (0 simplex iterations) in 0.02 seconds (0.00 work units)\n",
      "Thread count was 1 (of 8 available processors)\n",
      "\n",
      "Solution count 2: 217189 285355 \n",
      "\n",
      "Optimal solution found (tolerance 1.00e-04)\n",
      "Best objective 2.171893200000e+05, best bound 2.171893200000e+05, gap 0.0000%\n"
     ]
    }
   ],
   "source": [
    "m.optimize()"
   ]
  },
  {
   "cell_type": "code",
   "execution_count": 104,
   "metadata": {},
   "outputs": [
    {
     "data": {
      "text/html": [
       "<div>\n",
       "<style scoped>\n",
       "    .dataframe tbody tr th:only-of-type {\n",
       "        vertical-align: middle;\n",
       "    }\n",
       "\n",
       "    .dataframe tbody tr th {\n",
       "        vertical-align: top;\n",
       "    }\n",
       "\n",
       "    .dataframe thead th {\n",
       "        text-align: right;\n",
       "    }\n",
       "</style>\n",
       "<table border=\"1\" class=\"dataframe\">\n",
       "  <thead>\n",
       "    <tr style=\"text-align: right;\">\n",
       "      <th>to</th>\n",
       "      <th>D1</th>\n",
       "      <th>D2</th>\n",
       "    </tr>\n",
       "    <tr>\n",
       "      <th>from</th>\n",
       "      <th></th>\n",
       "      <th></th>\n",
       "    </tr>\n",
       "  </thead>\n",
       "  <tbody>\n",
       "    <tr>\n",
       "      <th>P1</th>\n",
       "      <td>0</td>\n",
       "      <td>6232</td>\n",
       "    </tr>\n",
       "    <tr>\n",
       "      <th>P2</th>\n",
       "      <td>25574</td>\n",
       "      <td>0</td>\n",
       "    </tr>\n",
       "  </tbody>\n",
       "</table>\n",
       "</div>"
      ],
      "text/plain": [
       "to       D1    D2\n",
       "from             \n",
       "P1        0  6232\n",
       "P2    25574     0"
      ]
     },
     "execution_count": 104,
     "metadata": {},
     "output_type": "execute_result"
    }
   ],
   "source": [
    "I.reset_index().rename(columns={'level_0': 'to', 'level_1': 'from'}) \\\n",
    ".pivot(index='from', columns='to', values='inbound').map(lambda x: int(x.X))"
   ]
  },
  {
   "cell_type": "code",
   "execution_count": 105,
   "metadata": {},
   "outputs": [
    {
     "data": {
      "text/html": [
       "<div>\n",
       "<style scoped>\n",
       "    .dataframe tbody tr th:only-of-type {\n",
       "        vertical-align: middle;\n",
       "    }\n",
       "\n",
       "    .dataframe tbody tr th {\n",
       "        vertical-align: top;\n",
       "    }\n",
       "\n",
       "    .dataframe thead th {\n",
       "        text-align: right;\n",
       "    }\n",
       "</style>\n",
       "<table border=\"1\" class=\"dataframe\">\n",
       "  <thead>\n",
       "    <tr style=\"text-align: right;\">\n",
       "      <th>to</th>\n",
       "      <th>S1</th>\n",
       "      <th>S10</th>\n",
       "      <th>S100</th>\n",
       "      <th>S101</th>\n",
       "      <th>S102</th>\n",
       "      <th>S103</th>\n",
       "      <th>S104</th>\n",
       "      <th>S105</th>\n",
       "      <th>S106</th>\n",
       "      <th>S107</th>\n",
       "      <th>...</th>\n",
       "      <th>S90</th>\n",
       "      <th>S91</th>\n",
       "      <th>S92</th>\n",
       "      <th>S93</th>\n",
       "      <th>S94</th>\n",
       "      <th>S95</th>\n",
       "      <th>S96</th>\n",
       "      <th>S97</th>\n",
       "      <th>S98</th>\n",
       "      <th>S99</th>\n",
       "    </tr>\n",
       "    <tr>\n",
       "      <th>from</th>\n",
       "      <th></th>\n",
       "      <th></th>\n",
       "      <th></th>\n",
       "      <th></th>\n",
       "      <th></th>\n",
       "      <th></th>\n",
       "      <th></th>\n",
       "      <th></th>\n",
       "      <th></th>\n",
       "      <th></th>\n",
       "      <th></th>\n",
       "      <th></th>\n",
       "      <th></th>\n",
       "      <th></th>\n",
       "      <th></th>\n",
       "      <th></th>\n",
       "      <th></th>\n",
       "      <th></th>\n",
       "      <th></th>\n",
       "      <th></th>\n",
       "      <th></th>\n",
       "    </tr>\n",
       "  </thead>\n",
       "  <tbody>\n",
       "    <tr>\n",
       "      <th>D1</th>\n",
       "      <td>244</td>\n",
       "      <td>0</td>\n",
       "      <td>214</td>\n",
       "      <td>270</td>\n",
       "      <td>0</td>\n",
       "      <td>121</td>\n",
       "      <td>0</td>\n",
       "      <td>106</td>\n",
       "      <td>0</td>\n",
       "      <td>225</td>\n",
       "      <td>...</td>\n",
       "      <td>0</td>\n",
       "      <td>118</td>\n",
       "      <td>193</td>\n",
       "      <td>59</td>\n",
       "      <td>67</td>\n",
       "      <td>0</td>\n",
       "      <td>0</td>\n",
       "      <td>96</td>\n",
       "      <td>148</td>\n",
       "      <td>98</td>\n",
       "    </tr>\n",
       "    <tr>\n",
       "      <th>D2</th>\n",
       "      <td>0</td>\n",
       "      <td>129</td>\n",
       "      <td>0</td>\n",
       "      <td>0</td>\n",
       "      <td>110</td>\n",
       "      <td>0</td>\n",
       "      <td>257</td>\n",
       "      <td>0</td>\n",
       "      <td>175</td>\n",
       "      <td>0</td>\n",
       "      <td>...</td>\n",
       "      <td>249</td>\n",
       "      <td>0</td>\n",
       "      <td>0</td>\n",
       "      <td>0</td>\n",
       "      <td>0</td>\n",
       "      <td>218</td>\n",
       "      <td>187</td>\n",
       "      <td>0</td>\n",
       "      <td>0</td>\n",
       "      <td>0</td>\n",
       "    </tr>\n",
       "  </tbody>\n",
       "</table>\n",
       "<p>2 rows × 200 columns</p>\n",
       "</div>"
      ],
      "text/plain": [
       "to     S1  S10  S100  S101  S102  S103  S104  S105  S106  S107  ...  S90  S91  \\\n",
       "from                                                            ...             \n",
       "D1    244    0   214   270     0   121     0   106     0   225  ...    0  118   \n",
       "D2      0  129     0     0   110     0   257     0   175     0  ...  249    0   \n",
       "\n",
       "to    S92  S93  S94  S95  S96  S97  S98  S99  \n",
       "from                                          \n",
       "D1    193   59   67    0    0   96  148   98  \n",
       "D2      0    0    0  218  187    0    0    0  \n",
       "\n",
       "[2 rows x 200 columns]"
      ]
     },
     "execution_count": 105,
     "metadata": {},
     "output_type": "execute_result"
    }
   ],
   "source": [
    "O.reset_index().rename(columns={'level_0': 'to'}).pivot(index='from', columns='to', values='outbound')\\\n",
    "    .map(lambda x: int(x.X))"
   ]
  },
  {
   "cell_type": "code",
   "execution_count": 107,
   "metadata": {},
   "outputs": [
    {
     "data": {
      "text/html": [
       "<div>\n",
       "<style scoped>\n",
       "    .dataframe tbody tr th:only-of-type {\n",
       "        vertical-align: middle;\n",
       "    }\n",
       "\n",
       "    .dataframe tbody tr th {\n",
       "        vertical-align: top;\n",
       "    }\n",
       "\n",
       "    .dataframe thead th {\n",
       "        text-align: right;\n",
       "    }\n",
       "</style>\n",
       "<table border=\"1\" class=\"dataframe\">\n",
       "  <thead>\n",
       "    <tr style=\"text-align: right;\">\n",
       "      <th>STORE</th>\n",
       "      <th>S1</th>\n",
       "      <th>S2</th>\n",
       "      <th>S3</th>\n",
       "      <th>S4</th>\n",
       "      <th>S5</th>\n",
       "      <th>S6</th>\n",
       "      <th>S7</th>\n",
       "      <th>S8</th>\n",
       "      <th>S9</th>\n",
       "      <th>S10</th>\n",
       "      <th>...</th>\n",
       "      <th>S191</th>\n",
       "      <th>S192</th>\n",
       "      <th>S193</th>\n",
       "      <th>S194</th>\n",
       "      <th>S195</th>\n",
       "      <th>S196</th>\n",
       "      <th>S197</th>\n",
       "      <th>S198</th>\n",
       "      <th>S199</th>\n",
       "      <th>S200</th>\n",
       "    </tr>\n",
       "  </thead>\n",
       "  <tbody>\n",
       "    <tr>\n",
       "      <th>DEMAND</th>\n",
       "      <td>244</td>\n",
       "      <td>172</td>\n",
       "      <td>124</td>\n",
       "      <td>90</td>\n",
       "      <td>158</td>\n",
       "      <td>175</td>\n",
       "      <td>269</td>\n",
       "      <td>223</td>\n",
       "      <td>123</td>\n",
       "      <td>129</td>\n",
       "      <td>...</td>\n",
       "      <td>250</td>\n",
       "      <td>39</td>\n",
       "      <td>99</td>\n",
       "      <td>178</td>\n",
       "      <td>47</td>\n",
       "      <td>57</td>\n",
       "      <td>52</td>\n",
       "      <td>243</td>\n",
       "      <td>70</td>\n",
       "      <td>50</td>\n",
       "    </tr>\n",
       "  </tbody>\n",
       "</table>\n",
       "<p>1 rows × 200 columns</p>\n",
       "</div>"
      ],
      "text/plain": [
       "STORE    S1   S2   S3  S4   S5   S6   S7   S8   S9  S10  ...  S191  S192  \\\n",
       "DEMAND  244  172  124  90  158  175  269  223  123  129  ...   250    39   \n",
       "\n",
       "STORE   S193  S194  S195  S196  S197  S198  S199  S200  \n",
       "DEMAND    99   178    47    57    52   243    70    50  \n",
       "\n",
       "[1 rows x 200 columns]"
      ]
     },
     "execution_count": 107,
     "metadata": {},
     "output_type": "execute_result"
    }
   ],
   "source": [
    "df_demand.T"
   ]
  }
 ],
 "metadata": {
  "kernelspec": {
   "display_name": "Python 3",
   "language": "python",
   "name": "python3"
  },
  "language_info": {
   "codemirror_mode": {
    "name": "ipython",
    "version": 3
   },
   "file_extension": ".py",
   "mimetype": "text/x-python",
   "name": "python",
   "nbconvert_exporter": "python",
   "pygments_lexer": "ipython3",
   "version": "3.12.6"
  }
 },
 "nbformat": 4,
 "nbformat_minor": 2
}
