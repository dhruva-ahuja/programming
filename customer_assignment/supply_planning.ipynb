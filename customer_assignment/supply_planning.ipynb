{
 "cells": [
  {
   "cell_type": "markdown",
   "metadata": {},
   "source": [
    "## Supply Planning using Gurobi\n",
    "This notebook demostrates how supply planning optmization can be done using Gurobi using a simplied Supply Planning Problem usecase.\n",
    "\n",
    "Supply planning is managing the inventory produced by manufacturing to fulfil the requirements created from the demand plan.\n",
    "\n",
    "### How many pallets do we need to ship to DC1 in the near future?\n",
    "\n",
    "![suppy_planning_problem.png](img/suppy_planning_problem.png)\n",
    "\n",
    "_source_: [Samir Saci](https://towardsdatascience.com/supply-planning-using-linear-programming-with-python-bff2401bf270)\n",
    "\n",
    "\n",
    "### Problem Statement\n",
    "\n",
    "As a Supply Planning manager of a mid-size manufacturing company, you received the feedback that the distribution costs are too high. Based on the analysis of the Transportation Manager this is mainly due to the stock allocation rules.\n",
    "\n",
    "In some cases, your customers are not shipped by the closest distribution centre, which impacts your freight costs.\n",
    "\n",
    "For simplicity, let's say we have the following points to take into consideration:\n",
    "\n",
    "- Inbound Transportation Costs from the Plants to the Distribution Centers (DC) (\\$/Carton).\n",
    "\n",
    "- Outbound Transportation Costs from the DCs to the final customer (\\$/Carton).\n",
    "\n",
    "- Customer Demand (Carton).\n",
    "\n",
    "This problem statement is based on [this](https://towardsdatascience.com/supply-planning-using-linear-programming-with-python-bff2401bf270) article. There the problem was solved using PuLP framework. "
   ]
  },
  {
   "cell_type": "markdown",
   "metadata": {},
   "source": [
    "### Loading data\n",
    "\n",
    "- Loading the near future demand of stores (or customers) in terms of number of pallets required into a dataframe."
   ]
  },
  {
   "cell_type": "code",
   "execution_count": 33,
   "metadata": {},
   "outputs": [
    {
     "data": {
      "text/html": [
       "<div>\n",
       "<style scoped>\n",
       "    .dataframe tbody tr th:only-of-type {\n",
       "        vertical-align: middle;\n",
       "    }\n",
       "\n",
       "    .dataframe tbody tr th {\n",
       "        vertical-align: top;\n",
       "    }\n",
       "\n",
       "    .dataframe thead th {\n",
       "        text-align: right;\n",
       "    }\n",
       "</style>\n",
       "<table border=\"1\" class=\"dataframe\">\n",
       "  <thead>\n",
       "    <tr style=\"text-align: right;\">\n",
       "      <th></th>\n",
       "      <th>DEMAND</th>\n",
       "    </tr>\n",
       "    <tr>\n",
       "      <th>STORE</th>\n",
       "      <th></th>\n",
       "    </tr>\n",
       "  </thead>\n",
       "  <tbody>\n",
       "    <tr>\n",
       "      <th>S1</th>\n",
       "      <td>244</td>\n",
       "    </tr>\n",
       "    <tr>\n",
       "      <th>S2</th>\n",
       "      <td>172</td>\n",
       "    </tr>\n",
       "    <tr>\n",
       "      <th>S3</th>\n",
       "      <td>124</td>\n",
       "    </tr>\n",
       "    <tr>\n",
       "      <th>S4</th>\n",
       "      <td>90</td>\n",
       "    </tr>\n",
       "    <tr>\n",
       "      <th>S5</th>\n",
       "      <td>158</td>\n",
       "    </tr>\n",
       "  </tbody>\n",
       "</table>\n",
       "</div>"
      ],
      "text/plain": [
       "       DEMAND\n",
       "STORE        \n",
       "S1        244\n",
       "S2        172\n",
       "S3        124\n",
       "S4         90\n",
       "S5        158"
      ]
     },
     "execution_count": 33,
     "metadata": {},
     "output_type": "execute_result"
    }
   ],
   "source": [
    "'''\n",
    "Author: Dhruva Ahuja\n",
    "'''\n",
    "import pandas as pd\n",
    "\n",
    "df_demand = pd.read_csv('data/df_demand.csv', index_col=0)\n",
    "df_demand.set_index('STORE', inplace=True)\n",
    "df_demand.head()"
   ]
  },
  {
   "cell_type": "markdown",
   "metadata": {},
   "source": [
    "### Loading data\n",
    "- Inbound transportation cost from plant $P_i$ to distribution center $DC_j$ loaded into `df_inbound`.\n",
    "- Outbound transportation cost from distribution center $DC_j$ to supplier $S_k$ loaded into `df_outbound`."
   ]
  },
  {
   "cell_type": "code",
   "execution_count": 23,
   "metadata": {},
   "outputs": [
    {
     "data": {
      "text/html": [
       "<div>\n",
       "<style scoped>\n",
       "    .dataframe tbody tr th:only-of-type {\n",
       "        vertical-align: middle;\n",
       "    }\n",
       "\n",
       "    .dataframe tbody tr th {\n",
       "        vertical-align: top;\n",
       "    }\n",
       "\n",
       "    .dataframe thead th {\n",
       "        text-align: right;\n",
       "    }\n",
       "</style>\n",
       "<table border=\"1\" class=\"dataframe\">\n",
       "  <thead>\n",
       "    <tr style=\"text-align: right;\">\n",
       "      <th></th>\n",
       "      <th>S1</th>\n",
       "      <th>S2</th>\n",
       "      <th>S3</th>\n",
       "      <th>S4</th>\n",
       "      <th>S5</th>\n",
       "      <th>S6</th>\n",
       "      <th>S7</th>\n",
       "      <th>S8</th>\n",
       "      <th>S9</th>\n",
       "      <th>S10</th>\n",
       "      <th>...</th>\n",
       "      <th>S191</th>\n",
       "      <th>S192</th>\n",
       "      <th>S193</th>\n",
       "      <th>S194</th>\n",
       "      <th>S195</th>\n",
       "      <th>S196</th>\n",
       "      <th>S197</th>\n",
       "      <th>S198</th>\n",
       "      <th>S199</th>\n",
       "      <th>S200</th>\n",
       "    </tr>\n",
       "    <tr>\n",
       "      <th>from</th>\n",
       "      <th></th>\n",
       "      <th></th>\n",
       "      <th></th>\n",
       "      <th></th>\n",
       "      <th></th>\n",
       "      <th></th>\n",
       "      <th></th>\n",
       "      <th></th>\n",
       "      <th></th>\n",
       "      <th></th>\n",
       "      <th></th>\n",
       "      <th></th>\n",
       "      <th></th>\n",
       "      <th></th>\n",
       "      <th></th>\n",
       "      <th></th>\n",
       "      <th></th>\n",
       "      <th></th>\n",
       "      <th></th>\n",
       "      <th></th>\n",
       "      <th></th>\n",
       "    </tr>\n",
       "  </thead>\n",
       "  <tbody>\n",
       "    <tr>\n",
       "      <th>D1</th>\n",
       "      <td>2.30</td>\n",
       "      <td>4.23</td>\n",
       "      <td>2.26</td>\n",
       "      <td>3.38</td>\n",
       "      <td>1.59</td>\n",
       "      <td>2.01</td>\n",
       "      <td>5.32</td>\n",
       "      <td>6.63</td>\n",
       "      <td>2.38</td>\n",
       "      <td>6.62</td>\n",
       "      <td>...</td>\n",
       "      <td>5.86</td>\n",
       "      <td>8.30</td>\n",
       "      <td>3.02</td>\n",
       "      <td>1.01</td>\n",
       "      <td>2.77</td>\n",
       "      <td>2.96</td>\n",
       "      <td>3.53</td>\n",
       "      <td>8.60</td>\n",
       "      <td>2.77</td>\n",
       "      <td>7.06</td>\n",
       "    </tr>\n",
       "    <tr>\n",
       "      <th>D2</th>\n",
       "      <td>5.31</td>\n",
       "      <td>2.18</td>\n",
       "      <td>8.52</td>\n",
       "      <td>8.34</td>\n",
       "      <td>4.59</td>\n",
       "      <td>1.04</td>\n",
       "      <td>1.89</td>\n",
       "      <td>6.45</td>\n",
       "      <td>8.35</td>\n",
       "      <td>3.32</td>\n",
       "      <td>...</td>\n",
       "      <td>7.54</td>\n",
       "      <td>2.11</td>\n",
       "      <td>4.33</td>\n",
       "      <td>1.54</td>\n",
       "      <td>4.75</td>\n",
       "      <td>7.84</td>\n",
       "      <td>8.21</td>\n",
       "      <td>4.51</td>\n",
       "      <td>3.27</td>\n",
       "      <td>3.13</td>\n",
       "    </tr>\n",
       "  </tbody>\n",
       "</table>\n",
       "<p>2 rows × 200 columns</p>\n",
       "</div>"
      ],
      "text/plain": [
       "        S1    S2    S3    S4    S5    S6    S7    S8    S9   S10  ...  S191  \\\n",
       "from                                                              ...         \n",
       "D1    2.30  4.23  2.26  3.38  1.59  2.01  5.32  6.63  2.38  6.62  ...  5.86   \n",
       "D2    5.31  2.18  8.52  8.34  4.59  1.04  1.89  6.45  8.35  3.32  ...  7.54   \n",
       "\n",
       "      S192  S193  S194  S195  S196  S197  S198  S199  S200  \n",
       "from                                                        \n",
       "D1    8.30  3.02  1.01  2.77  2.96  3.53  8.60  2.77  7.06  \n",
       "D2    2.11  4.33  1.54  4.75  7.84  8.21  4.51  3.27  3.13  \n",
       "\n",
       "[2 rows x 200 columns]"
      ]
     },
     "execution_count": 23,
     "metadata": {},
     "output_type": "execute_result"
    }
   ],
   "source": [
    "df_inbound = pd.read_csv('data/df_inbound_price.csv', index_col=0)\n",
    "df_outbound = pd.read_csv('data/df_outbound_price.csv', index_col=0)\n",
    "df_outbound = df_outbound.set_index('from')\n",
    "df_outbound.head()"
   ]
  },
  {
   "cell_type": "code",
   "execution_count": 3,
   "metadata": {},
   "outputs": [
    {
     "data": {
      "text/html": [
       "<div>\n",
       "<style scoped>\n",
       "    .dataframe tbody tr th:only-of-type {\n",
       "        vertical-align: middle;\n",
       "    }\n",
       "\n",
       "    .dataframe tbody tr th {\n",
       "        vertical-align: top;\n",
       "    }\n",
       "\n",
       "    .dataframe thead th {\n",
       "        text-align: right;\n",
       "    }\n",
       "</style>\n",
       "<table border=\"1\" class=\"dataframe\">\n",
       "  <thead>\n",
       "    <tr style=\"text-align: right;\">\n",
       "      <th></th>\n",
       "      <th>D1</th>\n",
       "      <th>D2</th>\n",
       "    </tr>\n",
       "  </thead>\n",
       "  <tbody>\n",
       "    <tr>\n",
       "      <th>P1</th>\n",
       "      <td>3.0</td>\n",
       "      <td>5.0</td>\n",
       "    </tr>\n",
       "    <tr>\n",
       "      <th>P2</th>\n",
       "      <td>2.3</td>\n",
       "      <td>6.6</td>\n",
       "    </tr>\n",
       "  </tbody>\n",
       "</table>\n",
       "</div>"
      ],
      "text/plain": [
       "     D1   D2\n",
       "P1  3.0  5.0\n",
       "P2  2.3  6.6"
      ]
     },
     "execution_count": 3,
     "metadata": {},
     "output_type": "execute_result"
    }
   ],
   "source": [
    "df_inbound.head()"
   ]
  },
  {
   "cell_type": "code",
   "execution_count": 4,
   "metadata": {},
   "outputs": [
    {
     "data": {
      "text/plain": [
       "(2, 2, 200)"
      ]
     },
     "execution_count": 4,
     "metadata": {},
     "output_type": "execute_result"
    }
   ],
   "source": [
    "# Number of plants, number of DCs, number of stores.\n",
    "n_p, n_dc = df_inbound.shape\n",
    "n_s = df_demand.shape[0]\n",
    "n_p, n_dc, n_s"
   ]
  },
  {
   "cell_type": "markdown",
   "metadata": {},
   "source": [
    "The optimization problem can be formulated as follows:\n",
    "\n",
    "$$ TC = \\sum_{i=1}^{2} \\sum_{j=1}^{2} IB_{i, j} \\times I_{i, j} + \\sum_{j=1}^{2} \\sum_{k=1}^{200} OB_{j, k} \\times O_{j, k} $$\n",
    "\n",
    "Where, \n",
    "- $IB_{i, j}$ is inbound cost ($/pallete) from plant $P_i$ to $DC_j$.\n",
    "- $OB_{j, k}$ is outbound cost ($/pallete) from $DC_j$ to store $S_k$.\n",
    "\n",
    "\n",
    "We have to minimize TC or Total Cost, subjected to some contraints (given later).\n",
    "\n",
    "$$ \\text{minimize} \\quad {TC}$$"
   ]
  },
  {
   "cell_type": "code",
   "execution_count": 5,
   "metadata": {},
   "outputs": [
    {
     "name": "stdout",
     "output_type": "stream",
     "text": [
      "Restricted license - for non-production use only - expires 2025-11-24\n"
     ]
    }
   ],
   "source": [
    "import gurobipy as gb\n",
    "from gurobipy import GRB\n",
    "\n",
    "m = gb.Model('supply_planning.lp')\n",
    "\n",
    "# Define inbound and outbound variables, since the number of palletes (inbound or outbound) can only be an integer, \n",
    "# we specify the vtype to be integer. Hence making it a mixed integer linear programming problem.\n",
    "I = m.addVars(n_p, n_dc, vtype=GRB.INTEGER, name='Inbound')\n",
    "O = m.addVars(n_dc, n_s, vtype=GRB.INTEGER, name='Outbound')\n",
    "\n",
    "# Inbound and Outbound cost per pallet is taken from their dataframes. Converted to numpy to utilize benefits of row-major indexing.\n",
    "ic = df_inbound.to_numpy()\n",
    "oc = df_outbound.to_numpy()\n",
    "demand = df_demand.to_numpy().flatten()\n",
    "\n",
    "m.update()"
   ]
  },
  {
   "cell_type": "code",
   "execution_count": 6,
   "metadata": {},
   "outputs": [],
   "source": [
    "objective = gb.quicksum(ic[i, j] * I[i, j] for i in range(n_p) for j in range(n_dc))\n",
    "objective += gb.quicksum(oc[j, k] * O[j, k] for j in range(n_dc) for k in range(n_s))\n",
    "\n",
    "m.setObjective(objective, GRB.MINIMIZE)\n",
    "m.update()"
   ]
  },
  {
   "cell_type": "markdown",
   "metadata": {},
   "source": [
    "Equality Constraint: Total inbound should be equal to total outbound for a distribution center.\n",
    "\n",
    "\n",
    "$$ \\sum_{i=0}^{2} I_{i, j} = \\sum_{k=0}^{200} O_{j, k} ~~~~~~~~ \\forall ~~ j \\in \\{1, 2\\}$$\n",
    "\n",
    "Inequality Contraint: Outbound from distribution centers should meet the customer demand.\n",
    "\n",
    "$$ \\sum_{j=0}^{2} O_{j, k} \\ge D_k ~~~~~~~~ \\forall ~~ k \\in \\{1, 2, \\dotsc, 200\\}$$\n",
    "\n",
    "Integrality contraint: \n",
    "$$I_{i, j} \\in \\mathbb{Z}^+ ~~~ \\forall (i, j), \\\\ O_{j, k} \\in \\mathbb{Z}^+ ~~~ \\forall (j, k)$$"
   ]
  },
  {
   "cell_type": "code",
   "execution_count": 7,
   "metadata": {},
   "outputs": [],
   "source": [
    "# Add the equality contraints\n",
    "m.addConstrs((gb.quicksum(I[i, j] for i in range(n_p)) == gb.quicksum(O[j, k] for k in range(n_s))) for j in range(n_dc))\n",
    "\n",
    "# Add the inquality contraints\n",
    "m.addConstrs((gb.quicksum(O[j, k] for j in range(n_dc)) >= demand[k]) for k in range(n_s))\n",
    "\n",
    "m.update()"
   ]
  },
  {
   "cell_type": "code",
   "execution_count": 8,
   "metadata": {},
   "outputs": [
    {
     "name": "stdout",
     "output_type": "stream",
     "text": [
      "Gurobi Optimizer version 11.0.3 build v11.0.3rc0 (win64 - Windows 11.0 (22631.2))\n",
      "\n",
      "CPU model: 11th Gen Intel(R) Core(TM) i5-1135G7 @ 2.40GHz, instruction set [SSE2|AVX|AVX2|AVX512]\n"
     ]
    },
    {
     "name": "stdout",
     "output_type": "stream",
     "text": [
      "Thread count: 4 physical cores, 8 logical processors, using up to 8 threads\n",
      "\n",
      "Optimize a model with 202 rows, 404 columns and 804 nonzeros\n",
      "Model fingerprint: 0xe2353170\n",
      "Variable types: 0 continuous, 404 integer (0 binary)\n",
      "Coefficient statistics:\n",
      "  Matrix range     [1e+00, 1e+00]\n",
      "  Objective range  [1e+00, 9e+00]\n",
      "  Bounds range     [0e+00, 0e+00]\n",
      "  RHS range        [2e+01, 3e+02]\n",
      "Found heuristic solution: objective 290103.22000\n",
      "Presolve removed 202 rows and 404 columns\n",
      "Presolve time: 0.00s\n",
      "Presolve: All rows and columns removed\n",
      "\n",
      "Explored 0 nodes (0 simplex iterations) in 0.01 seconds (0.00 work units)\n",
      "Thread count was 1 (of 8 available processors)\n",
      "\n",
      "Solution count 2: 217189 290103 \n",
      "\n",
      "Optimal solution found (tolerance 1.00e-04)\n",
      "Best objective 2.171893200000e+05, best bound 2.171893200000e+05, gap 0.0000%\n"
     ]
    }
   ],
   "source": [
    "m.optimize()"
   ]
  },
  {
   "cell_type": "code",
   "execution_count": 27,
   "metadata": {},
   "outputs": [
    {
     "data": {
      "text/html": [
       "<div>\n",
       "<style scoped>\n",
       "    .dataframe tbody tr th:only-of-type {\n",
       "        vertical-align: middle;\n",
       "    }\n",
       "\n",
       "    .dataframe tbody tr th {\n",
       "        vertical-align: top;\n",
       "    }\n",
       "\n",
       "    .dataframe thead th {\n",
       "        text-align: right;\n",
       "    }\n",
       "</style>\n",
       "<table border=\"1\" class=\"dataframe\">\n",
       "  <thead>\n",
       "    <tr style=\"text-align: right;\">\n",
       "      <th></th>\n",
       "      <th>DC1</th>\n",
       "      <th>DC2</th>\n",
       "    </tr>\n",
       "  </thead>\n",
       "  <tbody>\n",
       "    <tr>\n",
       "      <th>P1</th>\n",
       "      <td>0</td>\n",
       "      <td>6232</td>\n",
       "    </tr>\n",
       "    <tr>\n",
       "      <th>P2</th>\n",
       "      <td>25574</td>\n",
       "      <td>0</td>\n",
       "    </tr>\n",
       "  </tbody>\n",
       "</table>\n",
       "</div>"
      ],
      "text/plain": [
       "      DC1   DC2\n",
       "P1      0  6232\n",
       "P2  25574     0"
      ]
     },
     "execution_count": 27,
     "metadata": {},
     "output_type": "execute_result"
    }
   ],
   "source": [
    "import numpy as np\n",
    "\n",
    "# Results of the computation by gurobi are stored in the variables that we defined earlier, which is a tupled dictionary,\n",
    "# which can be formatted to show the results more clearly, e.g., # pallets that are shipped from P1 to DC2 can be easily seen in the resulting dataframe.\n",
    "pd.DataFrame(np.array([x.X for x in I.values()]).reshape(-1, n_dc), columns=['DC1', 'DC2'], index=['P1', 'P2'], dtype=int)"
   ]
  },
  {
   "cell_type": "code",
   "execution_count": 30,
   "metadata": {},
   "outputs": [
    {
     "data": {
      "text/html": [
       "<div>\n",
       "<style scoped>\n",
       "    .dataframe tbody tr th:only-of-type {\n",
       "        vertical-align: middle;\n",
       "    }\n",
       "\n",
       "    .dataframe tbody tr th {\n",
       "        vertical-align: top;\n",
       "    }\n",
       "\n",
       "    .dataframe thead th {\n",
       "        text-align: right;\n",
       "    }\n",
       "</style>\n",
       "<table border=\"1\" class=\"dataframe\">\n",
       "  <thead>\n",
       "    <tr style=\"text-align: right;\">\n",
       "      <th></th>\n",
       "      <th>DC1</th>\n",
       "      <th>DC2</th>\n",
       "    </tr>\n",
       "    <tr>\n",
       "      <th>STORE</th>\n",
       "      <th></th>\n",
       "      <th></th>\n",
       "    </tr>\n",
       "  </thead>\n",
       "  <tbody>\n",
       "    <tr>\n",
       "      <th>S1</th>\n",
       "      <td>244</td>\n",
       "      <td>0</td>\n",
       "    </tr>\n",
       "    <tr>\n",
       "      <th>S2</th>\n",
       "      <td>172</td>\n",
       "      <td>0</td>\n",
       "    </tr>\n",
       "    <tr>\n",
       "      <th>S3</th>\n",
       "      <td>124</td>\n",
       "      <td>0</td>\n",
       "    </tr>\n",
       "    <tr>\n",
       "      <th>S4</th>\n",
       "      <td>90</td>\n",
       "      <td>0</td>\n",
       "    </tr>\n",
       "    <tr>\n",
       "      <th>S5</th>\n",
       "      <td>158</td>\n",
       "      <td>0</td>\n",
       "    </tr>\n",
       "    <tr>\n",
       "      <th>...</th>\n",
       "      <td>...</td>\n",
       "      <td>...</td>\n",
       "    </tr>\n",
       "    <tr>\n",
       "      <th>S196</th>\n",
       "      <td>57</td>\n",
       "      <td>0</td>\n",
       "    </tr>\n",
       "    <tr>\n",
       "      <th>S197</th>\n",
       "      <td>52</td>\n",
       "      <td>0</td>\n",
       "    </tr>\n",
       "    <tr>\n",
       "      <th>S198</th>\n",
       "      <td>0</td>\n",
       "      <td>243</td>\n",
       "    </tr>\n",
       "    <tr>\n",
       "      <th>S199</th>\n",
       "      <td>70</td>\n",
       "      <td>0</td>\n",
       "    </tr>\n",
       "    <tr>\n",
       "      <th>S200</th>\n",
       "      <td>0</td>\n",
       "      <td>50</td>\n",
       "    </tr>\n",
       "  </tbody>\n",
       "</table>\n",
       "<p>200 rows × 2 columns</p>\n",
       "</div>"
      ],
      "text/plain": [
       "       DC1  DC2\n",
       "STORE          \n",
       "S1     244    0\n",
       "S2     172    0\n",
       "S3     124    0\n",
       "S4      90    0\n",
       "S5     158    0\n",
       "...    ...  ...\n",
       "S196    57    0\n",
       "S197    52    0\n",
       "S198     0  243\n",
       "S199    70    0\n",
       "S200     0   50\n",
       "\n",
       "[200 rows x 2 columns]"
      ]
     },
     "execution_count": 30,
     "metadata": {},
     "output_type": "execute_result"
    }
   ],
   "source": [
    "outbound_result = np.zeros(shape=(2, 200), dtype=int)\n",
    "outbound_result\n",
    "\n",
    "for j, k in O.keys():\n",
    "    outbound_result[j, k] = O[j, k].X\n",
    "\n",
    "demand_fulfilled = outbound_result.T\n",
    "df_fulfilled = pd.DataFrame(demand_fulfilled, index=df_demand.index, columns=['DC1', 'DC2'])\n",
    "df_fulfilled"
   ]
  },
  {
   "cell_type": "code",
   "execution_count": 31,
   "metadata": {},
   "outputs": [
    {
     "data": {
      "text/plain": [
       "0    200\n",
       "Name: count, dtype: int64"
      ]
     },
     "execution_count": 31,
     "metadata": {},
     "output_type": "execute_result"
    }
   ],
   "source": [
    "# basic evaluation to see if we were able to meet the demand or what was the spillage\n",
    "# luckily, for our case, there was no extra pallets delivered than required.\n",
    "(df_demand['DEMAND'] - df_fulfilled['DC1'] - df_fulfilled['DC2']).value_counts()"
   ]
  }
 ],
 "metadata": {
  "kernelspec": {
   "display_name": "Python 3",
   "language": "python",
   "name": "python3"
  },
  "language_info": {
   "authors": [
    {
     "name": "Dhruva Ahuja"
    }
   ],
   "codemirror_mode": {
    "name": "ipython",
    "version": 3
   },
   "file_extension": ".py",
   "mimetype": "text/x-python",
   "name": "python",
   "nbconvert_exporter": "python",
   "pygments_lexer": "ipython3",
   "title": "My Title!",
   "version": "3.12.6"
  }
 },
 "nbformat": 4,
 "nbformat_minor": 2
}
